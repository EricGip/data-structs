{
 "cells": [
  {
   "cell_type": "markdown",
   "metadata": {},
   "source": [
    "*LINKED LISTS*\n",
    "\n",
    "\n",
    "Why use a Linked List?\n",
    "\n",
    "Arrays can be used to store linear data of similar types\n",
    "Size of arrays are fixed in some languages, so we must know the upper limit on number of elements in advance. Also, this allocated memory is equal to the upper limit.\n",
    "Inserting a new element into an array of elements is expensive.\n",
    "Room has to be created for new elements and creates room to shift over existing elements\n",
    "\n",
    "Pros over arrays:\n",
    "Has dynamic sizing\n",
    "Ease of insertion/deletion \n",
    "\n",
    "Drawbacks:\n",
    "Random access not allowed. Have to access elements sequentially from first node. Cannot do binary search with linked list efficiently with default settings.\n",
    "Extra memory space for a pointer required with each element of list\n",
    "Not cache friendly. Array elements are contiguous locations, so there is a locality of reference. Linked list do not have these.\n",
    "\n",
    "Representation:\n",
    "A linked list is represented by a pointer to the first node of the list. The first node = head. \n",
    "If the linked list is empty, the value of the head is NULL.\n",
    "\n",
    "\n",
    "Each node in a list consists of two parts:\n",
    "Data\n",
    "Pointer (or reference) to next node.\n",
    "In C, can represent a node using structures. In Java or C#, linked list can represent a class and node as separate class.\n",
    "\n",
    "Linked List vs arrays\n",
    "Arrays contain similar type data elements and elements belong to the indexes, meaning you can reference and move to any point easily\n",
    "In a linked list, you have to start from the head and work your way through each one until you get to the fourth element, whereas an array would just arr[4]\n",
    "Arrays are O(1), A linked list in O(n) \n"
   ]
  },
  {
   "cell_type": "code",
   "execution_count": 3,
   "metadata": {},
   "outputs": [],
   "source": [
    "#initializing linked list \n",
    "\n",
    "#Node class,\n",
    "class Node:\n",
    "    #Function to initialize the node object\n",
    "    def __init__(self,data):\n",
    "        self.data = data #assigns data\n",
    "        self.next = None #initialize next as Null\n",
    "\n",
    "class LinkedList:\n",
    "    ##function to initilize the linked list object \n",
    "    def __init__(self):\n",
    "        self.head = None "
   ]
  },
  {
   "cell_type": "code",
   "execution_count": 4,
   "metadata": {},
   "outputs": [],
   "source": [
    "#creating a simple linked List with 3 nodes\n",
    "\n",
    "class Node:\n",
    "    def __init__(self,data):\n",
    "        self.data = data \n",
    "        self.next = None\n",
    "        \n",
    "class LinkedList:\n",
    "    def __init__(self):\n",
    "        self.head = None\n",
    "        \n",
    "if __name__=='__main__':\n",
    "    \n",
    "    ilist = LinkedList()\n",
    "    \n",
    "    ilist.head = Node(1) #stating 1st block (the head)\n",
    "    second = Node(2) #2nd block\n",
    "    third = Node(3) #3rd block\n",
    "    \n",
    "    ilist.head.next = second; #linking first node with 2nd node\n",
    "    second.next = third; #linking 2nd with 3rd node"
   ]
  },
  {
   "cell_type": "code",
   "execution_count": 2,
   "metadata": {},
   "outputs": [
    {
     "name": "stdout",
     "output_type": "stream",
     "text": [
      "1\n",
      "2\n",
      "3\n"
     ]
    }
   ],
   "source": [
    "#Linked List Traversal \n",
    "\n",
    "#creating a simple linked List with 3 nodes\n",
    "\n",
    "class Node:\n",
    "    def __init__(self,data):\n",
    "        self.data = data\n",
    "        self.next = None\n",
    "        \n",
    "class LinkedList:\n",
    "    def __init__(self):\n",
    "        self.head = None\n",
    "        \n",
    "    #prints contents of linked list\n",
    "    #starting from head.\n",
    "    def printList(self):\n",
    "        temp = self.head\n",
    "        while (temp):\n",
    "            print(temp.data),\n",
    "            temp = temp.next\n",
    "        \n",
    "if __name__=='__main__':\n",
    "    \n",
    "    ilist = LinkedList()\n",
    "    \n",
    "    ilist.head = Node(1)\n",
    "    second = Node(2)\n",
    "    third = Node(3)\n",
    "    \n",
    "    ilist.head.next = second;\n",
    "    second.next = third;\n",
    "    \n",
    "    ilist.printList()"
   ]
  },
  {
   "cell_type": "markdown",
   "metadata": {},
   "source": []
  },
  {
   "cell_type": "code",
   "execution_count": null,
   "metadata": {},
   "outputs": [],
   "source": []
  },
  {
   "cell_type": "code",
   "execution_count": null,
   "metadata": {},
   "outputs": [],
   "source": []
  },
  {
   "cell_type": "code",
   "execution_count": null,
   "metadata": {},
   "outputs": [],
   "source": []
  },
  {
   "cell_type": "code",
   "execution_count": null,
   "metadata": {},
   "outputs": [],
   "source": []
  },
  {
   "cell_type": "code",
   "execution_count": null,
   "metadata": {},
   "outputs": [],
   "source": []
  },
  {
   "cell_type": "code",
   "execution_count": null,
   "metadata": {},
   "outputs": [],
   "source": []
  },
  {
   "cell_type": "code",
   "execution_count": null,
   "metadata": {},
   "outputs": [],
   "source": []
  },
  {
   "cell_type": "code",
   "execution_count": null,
   "metadata": {},
   "outputs": [],
   "source": []
  },
  {
   "cell_type": "code",
   "execution_count": null,
   "metadata": {},
   "outputs": [],
   "source": []
  },
  {
   "cell_type": "code",
   "execution_count": null,
   "metadata": {},
   "outputs": [],
   "source": []
  },
  {
   "cell_type": "code",
   "execution_count": null,
   "metadata": {},
   "outputs": [],
   "source": []
  }
 ],
 "metadata": {
  "kernelspec": {
   "display_name": "Python 3",
   "language": "python",
   "name": "python3"
  },
  "language_info": {
   "codemirror_mode": {
    "name": "ipython",
    "version": 3
   },
   "file_extension": ".py",
   "mimetype": "text/x-python",
   "name": "python",
   "nbconvert_exporter": "python",
   "pygments_lexer": "ipython3",
   "version": "3.7.3"
  }
 },
 "nbformat": 4,
 "nbformat_minor": 2
}
