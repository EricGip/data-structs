{
 "cells": [
  {
   "cell_type": "markdown",
   "metadata": {},
   "source": [
    "Hashing | Set 1 Introduction \n",
    "\n",
    "\n",
    "Hashing is designed to use a special function called the \"Hash Function\".\n",
    "   * Used to map a given value with a particular key for faster access of elements.\n",
    "   * The efficiency of mapping depends on the hash function used.\n",
    "\n",
    "Ex: Suppose we want to design a system for storing employee records keyed using phone numbers. \n",
    "We want following queries to be performed:  \n",
    "   * Insert a phone number and corresponding information\n",
    "   * Search a phone number and fetch the information\n",
    "   * Delete a phone number and related information\n",
    "   \n",
    " We can think of using the following data structures to maintain info about different phone numbers:\n",
    "    * Array of phone number and records\n",
    "    * Linked List of phone numbers and records\n",
    "    * Balanced binary search tree with phone numbers as keys.\n",
    "    * Direct Access Table \n",
    "    \n",
    "For arrays and linked lists - linear fashion O(n). \n",
    "   * If we use arrays and keep the data sorted:\n",
    "      * a phone number can be serached in O(log N) time using binary search, \n",
    "      * but insert and delete operations become costly as we have to mantain sorted.  \n",
    "      \n",
    "With a BST, we get moderate search, insert, and delete times. \n",
    "   * All are O(Log N)   \n",
    "\n",
    "With a direct access table, we make a big array and use phone numbers as indexes in the array.  \n",
    "   * {k , v} basically, very good O(1) time but very impractical for following reasons:\n",
    "       * Requires a ton of space, if a phone number is N digits: O ( m * 10<sup>N</sup> )\n",
    "       * Integer in a programming language may not store n digits too.\n",
    "       \n",
    "----"
   ]
  },
  {
   "cell_type": "markdown",
   "metadata": {},
   "source": [
    "So instead of those 4 structures we've learned so far,   \n",
    "<bold>Hashing</bold> is a solution that can be used in almost all situations and performs extremely well vs Arrays, Linked Lists, and Balanced BST.\n",
    "   * With hashing, we get O(1) serach time on average and O(n) worst case. \n",
    "\n",
    "Hashing is an improvement over Direct Access Tables.\n",
    "   * The idea is to use hash functions that converts a given phone number or any other key to a smaller number.\n",
    "      * We then use this smaller number as an index in a table called a Hash table.\n",
    "\n",
    "----"
   ]
  },
  {
   "cell_type": "markdown",
   "metadata": {},
   "source": [
    "Hash functions: A function that converts a big phone number to a small practical value in our case.\n",
    "\n",
    "The mapped integer value is then used as an index in the hash table. \n",
    "   * In simpler terms, a hash function maps a big N"
   ]
  },
  {
   "cell_type": "code",
   "execution_count": null,
   "metadata": {},
   "outputs": [],
   "source": []
  }
 ],
 "metadata": {
  "kernelspec": {
   "display_name": "Python 3",
   "language": "python",
   "name": "python3"
  },
  "language_info": {
   "codemirror_mode": {
    "name": "ipython",
    "version": 3
   },
   "file_extension": ".py",
   "mimetype": "text/x-python",
   "name": "python",
   "nbconvert_exporter": "python",
   "pygments_lexer": "ipython3",
   "version": "3.7.3"
  }
 },
 "nbformat": 4,
 "nbformat_minor": 2
}
