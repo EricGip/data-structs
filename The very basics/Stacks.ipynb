{
 "cells": [
  {
   "cell_type": "markdown",
   "metadata": {},
   "source": [
    "*Stacks*\n",
    "\n",
    "A stack is a linear data structure which follows a particular order in which operations are peformed\n",
    "   **Last In, First out. \n",
    "   or \n",
    "   First In, Last out\n",
    "   \n",
    "Three basic operations are performed in a stack:\n",
    "    Push() - Adds an item to in the stack, then said to be in overflow condition\n",
    "    Pop() - Removes an item from the stack. Items are popped in reversed order from which they are pushed.\n",
    "        If stack is  empty, it is in overflow condition\n",
    "    Peek() or Top() - Returns (prints) top element of stack \n",
    "    isEmpty() - returns true if stack is empty, else false. \n",
    "    \n",
    "Ex:\n",
    "Think of a stack of pancakes, you have to remove the top of the stack to get to the bottom of the stack. \n",
    "\n",
    "Two ways to implement a stack:\n",
    "    Using an array\n",
    "        Pros - easy to implement. Memory is saved as pointers is not involved\n",
    "        Cons - is not dynamic, you must size. \n",
    "    Using a linked List\n",
    "    \n",
    " "
   ]
  },
  {
   "cell_type": "code",
   "execution_count": 47,
   "metadata": {},
   "outputs": [
    {
     "name": "stdout",
     "output_type": "stream",
     "text": [
      "10 pushed to stack\n",
      "20 pushed to stack\n",
      "30 pushed to stack\n",
      "30 popped from stack\n"
     ]
    }
   ],
   "source": [
    "    #Using an array to implement a stack\n",
    "\n",
    "    #Used to return -inifinite when stack is empty\n",
    "    from sys import maxsize \n",
    "\n",
    "    #Functions to create a stack, initializes at 0\n",
    "    def createStack():\n",
    "        stack = []\n",
    "        return stack\n",
    "\n",
    "    def isEmpty(stack):\n",
    "        return len(stack) == 0\n",
    "\n",
    "    def push(stack, item):\n",
    "        stack.append(item)\n",
    "        print(item + \" pushed to stack\")\n",
    "\n",
    "    #1st attempt \n",
    "    #def pop(stack, item):\n",
    "        #does not work, built in object is not subscriptable. \n",
    "    #    stack.remove[-1]\n",
    "    #    print()\n",
    "\n",
    "    def pop(stack):\n",
    "        if (isEmpty(stack)):\n",
    "            return str(-maxsize -1) #returns minus infinite    \n",
    "        return stack.pop()\n",
    "\n",
    "    #function to return top of stack wtihout removing it\n",
    "    def peek(stack):\n",
    "        if (isEmpty(stack)):\n",
    "            return str(-maxsize -1) #returns minus infinite\n",
    "        return stack[len(stack) -1]\n",
    "\n",
    "    #Test cases\n",
    "    stack = createStack()\n",
    "    push(stack, str(10))\n",
    "    push(stack, str(20))\n",
    "    push(stack, str(30))\n",
    "    print(pop(stack) + \" popped from stack\")"
   ]
  },
  {
   "cell_type": "code",
   "execution_count": 93,
   "metadata": {},
   "outputs": [
    {
     "name": "stdout",
     "output_type": "stream",
     "text": [
      "10succesfully pushed to stack\n",
      "20succesfully pushed to stack\n",
      "30succesfully pushed to stack\n"
     ]
    }
   ],
   "source": [
    "class Nodes:\n",
    "    def __init__(self, data):\n",
    "        self.data = data\n",
    "        self.next = None\n",
    "        \n",
    "class LinkedList2:\n",
    "    def __init__(self):\n",
    "        self.root = None\n",
    "        \n",
    "    def push(self,data):\n",
    "        newNode = Nodes(data) #creating a Node Object class called \"newNode\" with data in it\n",
    "        newNode.next = self.root\n",
    "        self.root = newNode\n",
    "        print(str(data) + \"succesfully pushed to stack\")\n",
    "        \n",
    "    def pop(self):\n",
    "        if (self.isitEmpty):\n",
    "            return [-1]\n",
    "        temp = self.head\n",
    "        self.head = self.root.next\n",
    "        popped = temp.data\n",
    "        return popped\n",
    "    \n",
    "    def isitEmpty():\n",
    "        return True if self.root is None else False\n",
    "    \n",
    "if __name__ == '__main__':\n",
    "    stacked = LinkedList2()\n",
    "    \n",
    "    stacked.push(10)\n",
    "    stacked.push(20)\n",
    "    stacked.push(30)\n",
    "    stacked.pop()\n"
   ]
  },
  {
   "cell_type": "code",
   "execution_count": null,
   "metadata": {},
   "outputs": [],
   "source": []
  },
  {
   "cell_type": "code",
   "execution_count": null,
   "metadata": {},
   "outputs": [],
   "source": []
  },
  {
   "cell_type": "code",
   "execution_count": null,
   "metadata": {},
   "outputs": [],
   "source": []
  }
 ],
 "metadata": {
  "kernelspec": {
   "display_name": "Python 3",
   "language": "python",
   "name": "python3"
  },
  "language_info": {
   "codemirror_mode": {
    "name": "ipython",
    "version": 3
   },
   "file_extension": ".py",
   "mimetype": "text/x-python",
   "name": "python",
   "nbconvert_exporter": "python",
   "pygments_lexer": "ipython3",
   "version": "3.7.3"
  }
 },
 "nbformat": 4,
 "nbformat_minor": 2
}
