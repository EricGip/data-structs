{
 "cells": [
  {
   "cell_type": "markdown",
   "metadata": {},
   "source": [
    "Like a stack, a Queue is a linear structure that follows a particular order in which operations are performed. \n",
    "    *First In, First out*\n",
    "    Ex: Think about a line, the first person in the line is going to be at the front and the first person to get served.\n",
    "    \n",
    "    Key difference between stacks and queues is *removing*.\n",
    "    In a stack, we remove the most recently added - in a queue, we remove the item least recently added.\n",
    "    \n",
    "Main operations of a Queue:\n",
    "    Enqueue - Adds an item to the Queue\n",
    "        If queue is full, go into overflow condition\n",
    "    Dequeue - Removes an item from the queue\n",
    "        items are popped in the same order they are pushed.\n",
    "        if queue is empty, underflow condition\n",
    "    Front - Get the front item of the queue\n",
    "    Rear - Get the back item of the queue"
   ]
  }
 ],
 "metadata": {
  "kernelspec": {
   "display_name": "Python 3",
   "language": "python",
   "name": "python3"
  },
  "language_info": {
   "codemirror_mode": {
    "name": "ipython",
    "version": 3
   },
   "file_extension": ".py",
   "mimetype": "text/x-python",
   "name": "python",
   "nbconvert_exporter": "python",
   "pygments_lexer": "ipython3",
   "version": "3.7.3"
  }
 },
 "nbformat": 4,
 "nbformat_minor": 2
}
