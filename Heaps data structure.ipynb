{
 "cells": [
  {
   "cell_type": "markdown",
   "metadata": {},
   "source": [
    "Heap Data Structure\n",
    "\n",
    "Heaps are a special Tree-based struture in which the tree is a complete binary tree.  \n",
    "Generally, heaps can be of two types:  \n",
    "   * Max-Heap: Key present at the root node must be greatest among the keys present at all of its children\n",
    "      * Same property must be recursively true for all sub-trees in that Binary Tree. \n",
    "   * Min - Heap: Key present at the root node must be minimum among all keys\n",
    "      * same thing, must be recursively true.\n",
    "------"
   ]
  },
  {
   "cell_type": "markdown",
   "metadata": {},
   "source": [
    "Binary Heap properties\n",
    "   * Must be a complete tree ( all levels are filled except last keys ).\n",
    "      * This is so they can be stored in an array.\n",
    "   * A binary heap MUST be either a MIN or a MAX heap\n",
    "\n",
    "Example of MIN heap\n",
    "\n",
    "       10               10\n",
    "     /  \\             / . \\\n",
    "     20  100         15 .  30  \n",
    "    /               /  \\ . /  \\ \n",
    "    30              40  50 100  40\n",
    "\n",
    "A binary heap is a complete binary tree. A binary heap is usually represented as an array.\n",
    "   * Root element will be at Arr[0]\n",
    "   * Below, the table shows indexes of other nodes for i<sup>th</sup> node, i.e., Arr[i]\n",
    "      * Arr[ (i-1) /2 ] - returns parent node\n",
    "      * Arr[ (2*i) + 1 ] - returns left child node\n",
    "      * Arr[ (2*i) + 2 ] - Returns right child node. \n",
    "\n",
    "Traversal method used for Array repsentation is <bold>Level Order</bold>\n",
    "\n",
    "         1\n",
    "       /   \\   \n",
    "      3 .   6\n",
    "     /  \\   /   \n",
    "     5   9  8\n",
    "     \n",
    "Prints out: 1 3 6 5 9 8 - basically states each hierarchy first!\n",
    "\n",
    "---------"
   ]
  },
  {
   "cell_type": "markdown",
   "metadata": {},
   "source": [
    "Applications of Heaps:\n",
    "   * Heap Sort: uses Binary Heap to sort an array in O(N log N) Time  \n",
    "   * Priority Queue: Can be efficiently implemented using Binary Heap because supports insert(), delete(), and extractmax(), decreaseKey() operations in O(Log N) time. These variations perform union efficiently.  \n",
    "   * Graph Algorithms: Priority Queues are especially used in Graph Algorithms.\n",
    "      * K'th Largest element in an array\n",
    "      * Sort an almost sorted array\n",
    "      * Merge K sorted Arrays\n",
    "\n",
    "------"
   ]
  },
  {
   "cell_type": "markdown",
   "metadata": {},
   "source": [
    "Operations we're going to need: \n",
    "   * getMini(): returns the root element of Min Heap. Time Complexity of this operation is O(1)  \n",
    "   \n",
    "   * extractMin(): Removes the minimum element frmo MinHeap.  \n",
    "   \n",
    "   * decreaseKey(): Decreases value of a key.   \n",
    "      * Decreases if key value of node is greater than parent node. \n",
    "         * Otherwise, we need to traverse up to fix the violated heap property. \n",
    "         \n",
    "   * Insert(): Inserting a new key takes O(Log N) Time    \n",
    "       * We need to add a new key at the end of the tree\n",
    "          * If new key is greater than its parent, good\n",
    "             * If key is lesser than parent, we need to traverse up to fix the violated heap property.\n",
    "             \n",
    "   * delete(): deleting a key also takes O(Log N) time.\n",
    "      * we replace key to be deleted with minum inifnite by calling decreaseKey()\n",
    "         * After decreaseKey(), the minus infinite value must reach root.\n",
    "            * So we call extractMin() to remove the key.\n",
    "            \n",
    "In python, these are:\n",
    "   * from heapq import heappush, heappop, heapify \n",
    "      * heappush - pop and return smallest element from heap\n",
    "      * heappop - push and value item onto the heap, maintaing heap invarient\n",
    "      * heapify - transform list into heap, in place, in linear time.\n",
    "  \n",
    "   \n",
    "------"
   ]
  },
  {
   "cell_type": "code",
   "execution_count": 7,
   "metadata": {},
   "outputs": [
    {
     "ename": "AttributeError",
     "evalue": "'MinHeap' object has no attribute 'extractMin'",
     "output_type": "error",
     "traceback": [
      "\u001b[0;31m---------------------------------------------------------------------------\u001b[0m",
      "\u001b[0;31mAttributeError\u001b[0m                            Traceback (most recent call last)",
      "\u001b[0;32m<ipython-input-7-5a434270a53e>\u001b[0m in \u001b[0;36m<module>\u001b[0;34m\u001b[0m\n\u001b[1;32m     36\u001b[0m \u001b[0mheapObj\u001b[0m\u001b[0;34m.\u001b[0m\u001b[0minsertKey\u001b[0m\u001b[0;34m(\u001b[0m\u001b[0;36m2\u001b[0m\u001b[0;34m)\u001b[0m\u001b[0;34m\u001b[0m\u001b[0;34m\u001b[0m\u001b[0m\n\u001b[1;32m     37\u001b[0m \u001b[0mheapObj\u001b[0m\u001b[0;34m.\u001b[0m\u001b[0minsertKey\u001b[0m\u001b[0;34m(\u001b[0m\u001b[0;36m1\u001b[0m\u001b[0;34m)\u001b[0m\u001b[0;34m\u001b[0m\u001b[0;34m\u001b[0m\u001b[0m\n\u001b[0;32m---> 38\u001b[0;31m \u001b[0mheapObj\u001b[0m\u001b[0;34m.\u001b[0m\u001b[0mdeleteKey\u001b[0m\u001b[0;34m(\u001b[0m\u001b[0;36m1\u001b[0m\u001b[0;34m)\u001b[0m\u001b[0;34m\u001b[0m\u001b[0;34m\u001b[0m\u001b[0m\n\u001b[0m\u001b[1;32m     39\u001b[0m \u001b[0mheapObj\u001b[0m\u001b[0;34m.\u001b[0m\u001b[0minsertKey\u001b[0m\u001b[0;34m(\u001b[0m\u001b[0;36m15\u001b[0m\u001b[0;34m)\u001b[0m\u001b[0;34m\u001b[0m\u001b[0;34m\u001b[0m\u001b[0m\n\u001b[1;32m     40\u001b[0m \u001b[0mheapObj\u001b[0m\u001b[0;34m.\u001b[0m\u001b[0minsertKey\u001b[0m\u001b[0;34m(\u001b[0m\u001b[0;36m5\u001b[0m\u001b[0;34m)\u001b[0m\u001b[0;34m\u001b[0m\u001b[0;34m\u001b[0m\u001b[0m\n",
      "\u001b[0;32m<ipython-input-7-5a434270a53e>\u001b[0m in \u001b[0;36mdeleteKey\u001b[0;34m(self, i)\u001b[0m\n\u001b[1;32m     25\u001b[0m     \u001b[0;31m# This function deletes key at index I. It reduces value to minus infinite then calls extractMin()\u001b[0m\u001b[0;34m\u001b[0m\u001b[0;34m\u001b[0m\u001b[0;34m\u001b[0m\u001b[0m\n\u001b[1;32m     26\u001b[0m     \u001b[0;32mdef\u001b[0m \u001b[0mdeleteKey\u001b[0m\u001b[0;34m(\u001b[0m\u001b[0mself\u001b[0m\u001b[0;34m,\u001b[0m \u001b[0mi\u001b[0m\u001b[0;34m)\u001b[0m\u001b[0;34m:\u001b[0m\u001b[0;34m\u001b[0m\u001b[0;34m\u001b[0m\u001b[0m\n\u001b[0;32m---> 27\u001b[0;31m         \u001b[0mself\u001b[0m\u001b[0;34m.\u001b[0m\u001b[0mextractMin\u001b[0m\u001b[0;34m(\u001b[0m\u001b[0;34m)\u001b[0m\u001b[0;34m\u001b[0m\u001b[0;34m\u001b[0m\u001b[0m\n\u001b[0m\u001b[1;32m     28\u001b[0m \u001b[0;34m\u001b[0m\u001b[0m\n\u001b[1;32m     29\u001b[0m     \u001b[0;31m#Get the minimum element from the heap\u001b[0m\u001b[0;34m\u001b[0m\u001b[0;34m\u001b[0m\u001b[0;34m\u001b[0m\u001b[0m\n",
      "\u001b[0;31mAttributeError\u001b[0m: 'MinHeap' object has no attribute 'extractMin'"
     ]
    }
   ],
   "source": [
    "#import the heap functions from python library\n",
    "\n",
    "from heapq import heappush, heappop, heapify\n",
    "\n",
    "class MinHeap:\n",
    "    def __init__(self):\n",
    "        self.heap = []\n",
    "        \n",
    "    def parent(self, i):\n",
    "        return (i - 1)/2\n",
    "    \n",
    "    #Insert a new key 'k'\n",
    "    def insertKey(self, k):\n",
    "        heappush(self.heap, k)\n",
    "        \n",
    "    #Decrease value of key at index 'i' to new_val\n",
    "        #Assume: new_val is smaller than heap[i]\n",
    "    def decreaseKey(self, i, new_val):\n",
    "        self.heap[i] = new_val\n",
    "        while(i != 0 and self.heap[self.parent(i)] > self.heap[i]):\n",
    "            #swap heap[i] with heap[parent(i)]\n",
    "            self.help[i], self.heap[self.parent(i)] = (\n",
    "            self.heap[self.parent(i)], self.heap[i])\n",
    "    \n",
    "    # This function deletes key at index I. It reduces value to minus infinite then calls extractMin()\n",
    "    def deleteKey(self, i):\n",
    "        self.decreaseKey(i, float(\"-inf\"))\n",
    "        self.extractMin()\n",
    "        \n",
    "    #Get the minimum element from the heap\n",
    "    def getMin(self):\n",
    "        return self.heap[0]\n",
    "\n",
    "#Driver program / test case\n",
    "heapObj = MinHeap()\n",
    "heapObj.insertKey(3)\n",
    "heapObj.insertKey(2)\n",
    "heapObj.insertKey(1)\n",
    "heapObj.deleteKey(1)\n",
    "heapObj.insertKey(15)\n",
    "heapObj.insertKey(5)\n",
    "heapObj.insertKey(4)\n",
    "heapObj.insertKey(45)\n",
    "\n",
    "print(heapObj.extractMin()),\n",
    "print(heapObj.getMin()),\n",
    "heapObj.decreaseKey(2, 1)\n",
    "print(heapObj.getMin())"
   ]
  },
  {
   "cell_type": "code",
   "execution_count": null,
   "metadata": {},
   "outputs": [],
   "source": []
  },
  {
   "cell_type": "code",
   "execution_count": null,
   "metadata": {},
   "outputs": [],
   "source": []
  },
  {
   "cell_type": "code",
   "execution_count": null,
   "metadata": {},
   "outputs": [],
   "source": []
  },
  {
   "cell_type": "code",
   "execution_count": null,
   "metadata": {},
   "outputs": [],
   "source": []
  },
  {
   "cell_type": "code",
   "execution_count": null,
   "metadata": {},
   "outputs": [],
   "source": []
  },
  {
   "cell_type": "code",
   "execution_count": null,
   "metadata": {},
   "outputs": [],
   "source": []
  }
 ],
 "metadata": {
  "kernelspec": {
   "display_name": "Python 3",
   "language": "python",
   "name": "python3"
  },
  "language_info": {
   "codemirror_mode": {
    "name": "ipython",
    "version": 3
   },
   "file_extension": ".py",
   "mimetype": "text/x-python",
   "name": "python",
   "nbconvert_exporter": "python",
   "pygments_lexer": "ipython3",
   "version": "3.7.3"
  }
 },
 "nbformat": 4,
 "nbformat_minor": 2
}
